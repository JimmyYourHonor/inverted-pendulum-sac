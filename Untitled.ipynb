{
 "cells": [
  {
   "cell_type": "code",
   "execution_count": 2,
   "metadata": {},
   "outputs": [],
   "source": [
    "import pybullet_envs\n",
    "import gym\n",
    "from gym import wrappers\n",
    "import numpy as np\n",
    "from sac_torch import Agent_2"
   ]
  },
  {
   "cell_type": "code",
   "execution_count": 3,
   "metadata": {},
   "outputs": [
    {
     "name": "stderr",
     "output_type": "stream",
     "text": [
      "/usr/local/lib/python3.7/site-packages/gym/logger.py:30: UserWarning: \u001b[33mWARN: Box bound precision lowered by casting to float32\u001b[0m\n",
      "  warnings.warn(colorize('%s: %s'%('WARN', msg % args), 'yellow'))\n"
     ]
    },
    {
     "name": "stdout",
     "output_type": "stream",
     "text": [
      "... saving models ...\n",
      "episode  0  score 16.0  avg score 16.0 \n",
      "... saving models ...\n",
      "episode  1  score 30.0  avg score 23.0 \n",
      "... saving models ...\n",
      "episode  2  score 34.0  avg score 26.7 \n",
      "episode  3  score 18.0  avg score 24.5 \n",
      "episode  4  score 29.0  avg score 25.4 \n",
      "episode  5  score 28.0  avg score 25.8 \n",
      "episode  6  score 17.0  avg score 24.6 \n",
      "episode  7  score 21.0  avg score 24.1 \n",
      "episode  8  score 19.0  avg score 23.6 \n",
      "episode  9  score 29.0  avg score 24.1 \n"
     ]
    }
   ],
   "source": [
    "env_to_wrap = gym.make('InvertedPendulumBulletEnv-v0')\n",
    "env = wrappers.Monitor(env_to_wrap, 'your directory here', force = True)\n",
    "agent = Agent_2(input_dims=env.observation_space.shape[0], env=env, \n",
    "                n_actions=env.action_space.shape[0])\n",
    "n_games = 10\n",
    "best_score = env.reward_range[0]\n",
    "score_history = []\n",
    "load_checkpoints = False\n",
    "\n",
    "if load_checkpoints:\n",
    "    agent.load_models()\n",
    "#actions = {i:[] for i in range(n_games)}\n",
    "for i in range(n_games):\n",
    "    observation = env.reset()\n",
    "    done = False\n",
    "    score = 0\n",
    "    while not done:\n",
    "        action = agent.choose_action(observation)\n",
    "        #actions[i].append(action)\n",
    "        observation_, reward, done, info = env.step(action)\n",
    "        score += reward\n",
    "        agent.remember(observation, action, reward, observation_, done)\n",
    "        #if not load_checkpoints:\n",
    "        agent.learn()\n",
    "        observation = observation_\n",
    "    score_history.append(score)\n",
    "    avg_score = np.mean(score_history[-100:])\n",
    "\n",
    "    if avg_score > best_score:\n",
    "        best_score = avg_score\n",
    "        #if not load_checkpoints:\n",
    "        agent.save_models()\n",
    "        \n",
    "    print('episode ', i, ' score %.1f ' % score, 'avg score %.1f ' % avg_score)\n",
    "env.close()\n",
    "env_to_wrap.close()"
   ]
  },
  {
   "cell_type": "code",
   "execution_count": 29,
   "metadata": {},
   "outputs": [
    {
     "data": {
      "text/plain": [
       "[<matplotlib.lines.Line2D at 0x7ff697999670>]"
      ]
     },
     "execution_count": 29,
     "metadata": {},
     "output_type": "execute_result"
    },
    {
     "data": {
      "image/png": "[encoded data removed]",
      "text/plain": [
       "<Figure size 432x288 with 1 Axes>"
      ]
     },
     "metadata": {
      "needs_background": "light"
     },
     "output_type": "display_data"
    }
   ],
   "source": [
    "import matplotlib.pyplot as plt\n",
    "plt.plot(actions[9])"
   ]
  },
  {
   "cell_type": "code",
   "execution_count": 1,
   "metadata": {},
   "outputs": [],
   "source": [
    "from networks import LinearVAE\n",
    "model = LinearVAE()"
   ]
  },
  {
   "cell_type": "code",
   "execution_count": 2,
   "metadata": {},
   "outputs": [
    {
     "data": {
      "text/plain": [
       "(tensor([[ 0.1330,  0.5762, -0.2442, -0.1110, -0.0857]],\n",
       "        grad_fn=<PreluBackward>),\n",
       " tensor([[ 0.9038, -0.1675,  0.0490, -0.2729, -0.6319,  0.0675,  0.2029, -0.3030,\n",
       "          -0.4293, -0.0633,  0.1127,  0.3362, -0.3368, -0.9166,  0.3752, -0.4346,\n",
       "          -0.2334, -0.4851,  0.3990, -0.2613, -0.5782,  0.0833, -0.5742,  0.7424,\n",
       "           0.6355, -0.0660, -0.1655,  0.1374, -0.4601, -0.1060,  0.6291, -0.5277]],\n",
       "        grad_fn=<SliceBackward>),\n",
       " tensor([[ 0.1416,  1.2051, -0.3032, -0.2576,  0.3121, -0.0142, -0.0143,  0.1722,\n",
       "          -0.2570, -0.8463,  0.3976, -0.6443,  0.3287, -0.5735,  0.3107, -0.5018,\n",
       "           0.7932, -0.1321,  0.1203,  0.0794, -0.1242, -0.2653,  0.4117,  0.6616,\n",
       "           0.9922,  0.6426,  0.2542, -0.0178, -0.8091,  0.5034, -0.7409,  0.1452]],\n",
       "        grad_fn=<SliceBackward>))"
      ]
     },
     "execution_count": 2,
     "metadata": {},
     "output_type": "execute_result"
    }
   ],
   "source": [
    "import torch\n",
    "x = torch.tensor([[1.,2.,3.,4.,5.]])\n",
    "model(x)"
   ]
  },
  {
   "cell_type": "code",
   "execution_count": 3,
   "metadata": {},
   "outputs": [
    {
     "data": {
      "text/plain": [
       "(tensor([[ 0.6564, -1.1526,  1.2063, -0.5078, -1.3796,  0.3348,  0.1239, -0.6938,\n",
       "           0.0385,  0.6107, -0.5039, -0.4227, -0.3424,  0.3541,  0.6276, -0.1244,\n",
       "          -0.1307, -0.9810,  1.1976,  0.4984, -1.7293,  1.0074,  0.8321,  3.4441,\n",
       "           0.6920, -0.5957, -0.4303,  1.0546, -0.4014, -1.4167,  1.4562, -0.0077]],\n",
       "        grad_fn=<AddBackward0>),\n",
       " tensor([[-41.1211]], grad_fn=<SumBackward1>))"
      ]
     },
     "execution_count": 3,
     "metadata": {},
     "output_type": "execute_result"
    }
   ],
   "source": [
    "model.sample_normal(x)"
   ]
  },
  {
   "cell_type": "code",
   "execution_count": null,
   "metadata": {},
   "outputs": [],
   "source": []
  }
 ],
 "metadata": {
  "kernelspec": {
   "display_name": "IRenv",
   "language": "python",
   "name": "irenv"
  },
  "language_info": {
   "codemirror_mode": {
    "name": "ipython",
    "version": 3
   },
   "file_extension": ".py",
   "mimetype": "text/x-python",
   "name": "python",
   "nbconvert_exporter": "python",
   "pygments_lexer": "ipython3",
   "version": "3.7.7"
  }
 },
 "nbformat": 4,
 "nbformat_minor": 4
}
