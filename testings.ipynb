{
 "cells": [
  {
   "cell_type": "code",
   "execution_count": 1,
   "metadata": {},
   "outputs": [
    {
     "name": "stderr",
     "output_type": "stream",
     "text": [
      "/home/siz075/.local/lib/python3.8/site-packages/gym/logger.py:30: UserWarning: \u001b[33mWARN: Box bound precision lowered by casting to float32\u001b[0m\n",
      "  warnings.warn(colorize('%s: %s'%('WARN', msg % args), 'yellow'))\n"
     ]
    },
    {
     "name": "stdout",
     "output_type": "stream",
     "text": [
      "03/01 04:20:37 PM episode 0 score 23.0 avg score 23.0\n",
      "03/01 04:20:37 PM episode 1 score 19.0 avg score 21.0\n",
      "03/01 04:20:37 PM episode 2 score 17.0 avg score 19.7\n",
      "03/01 04:20:37 PM episode 3 score 29.0 avg score 22.0\n",
      "03/01 04:20:37 PM episode 4 score 24.0 avg score 22.4\n"
     ]
    },
    {
     "name": "stderr",
     "output_type": "stream",
     "text": [
      "/opt/conda/envs/ml-latest/lib/python3.8/site-packages/numpy/core/fromnumeric.py:3372: RuntimeWarning: Mean of empty slice.\n",
      "  return _methods._mean(a, axis=axis, dtype=dtype,\n",
      "/opt/conda/envs/ml-latest/lib/python3.8/site-packages/numpy/core/_methods.py:170: RuntimeWarning: invalid value encountered in double_scalars\n",
      "  ret = ret.dtype.type(ret / rcount)\n"
     ]
    },
    {
     "name": "stdout",
     "output_type": "stream",
     "text": [
      "03/01 04:20:37 PM episode 5 score 40.0 avg score 25.3\n",
      "03/01 04:20:37 PM episode 6 score 28.0 avg score 25.7\n",
      "03/01 04:20:37 PM episode 7 score 19.0 avg score 24.9\n",
      "03/01 04:20:37 PM episode 8 score 30.0 avg score 25.4\n",
      "03/01 04:20:37 PM episode 9 score 33.0 avg score 26.2\n",
      "03/01 04:20:38 PM episode 10 score 38.0 avg score 27.3\n",
      "03/01 04:20:39 PM episode 11 score 26.0 avg score 27.2\n",
      "03/01 04:20:39 PM episode 12 score 16.0 avg score 26.3\n",
      "03/01 04:20:40 PM episode 13 score 29.0 avg score 26.5\n",
      "03/01 04:20:40 PM episode 14 score 10.0 avg score 25.4\n",
      "03/01 04:20:41 PM episode 15 score 40.0 avg score 26.3\n",
      "03/01 04:20:42 PM episode 16 score 29.0 avg score 26.5\n",
      "03/01 04:20:42 PM episode 17 score 29.0 avg score 26.6\n",
      "03/01 04:20:43 PM episode 18 score 30.0 avg score 26.8\n",
      "03/01 04:20:43 PM episode 19 score 12.0 avg score 26.1\n",
      "03/01 04:20:44 PM episode 20 score 15.0 avg score 25.5\n",
      "03/01 04:20:44 PM episode 21 score 29.0 avg score 25.7\n",
      "03/01 04:20:45 PM episode 22 score 25.0 avg score 25.7\n",
      "03/01 04:20:45 PM episode 23 score 13.0 avg score 25.1\n",
      "03/01 04:20:45 PM episode 24 score 15.0 avg score 24.7\n",
      "03/01 04:20:46 PM episode 25 score 21.0 avg score 24.6\n",
      "03/01 04:20:46 PM episode 26 score 13.0 avg score 24.1\n",
      "03/01 04:20:46 PM episode 27 score 15.0 avg score 23.8\n",
      "03/01 04:20:46 PM episode 28 score 15.0 avg score 23.5\n",
      "03/01 04:20:47 PM episode 29 score 12.0 avg score 23.1\n",
      "03/01 04:20:47 PM episode 30 score 11.0 avg score 22.7\n",
      "03/01 04:20:47 PM episode 31 score 16.0 avg score 22.5\n",
      "03/01 04:20:48 PM episode 32 score 22.0 avg score 22.5\n",
      "03/01 04:20:48 PM episode 33 score 30.0 avg score 22.7\n",
      "03/01 04:20:50 PM episode 34 score 69.0 avg score 24.1\n",
      "03/01 04:20:51 PM episode 35 score 31.0 avg score 24.2\n",
      "03/01 04:20:51 PM episode 36 score 17.0 avg score 24.1\n",
      "03/01 04:20:52 PM episode 37 score 34.0 avg score 24.3\n",
      "03/01 04:20:52 PM episode 38 score 21.0 avg score 24.2\n",
      "03/01 04:20:53 PM episode 39 score 29.0 avg score 24.4\n",
      "03/01 04:20:53 PM episode 40 score 32.0 avg score 24.5\n",
      "03/01 04:20:54 PM episode 41 score 34.0 avg score 24.8\n",
      "03/01 04:20:55 PM episode 42 score 13.0 avg score 24.5\n",
      "03/01 04:20:55 PM episode 43 score 17.0 avg score 24.3\n",
      "03/01 04:20:55 PM episode 44 score 17.0 avg score 24.2\n",
      "03/01 04:20:56 PM episode 45 score 19.0 avg score 24.0\n",
      "03/01 04:20:56 PM episode 46 score 32.0 avg score 24.2\n",
      "03/01 04:20:57 PM episode 47 score 26.0 avg score 24.2\n",
      "03/01 04:20:57 PM episode 48 score 17.0 avg score 24.1\n",
      "03/01 04:20:58 PM episode 49 score 20.0 avg score 24.0\n",
      "03/01 04:20:59 PM episode 50 score 44.0 avg score 24.4\n",
      "03/01 04:20:59 PM episode 51 score 13.0 avg score 24.2\n",
      "03/01 04:20:59 PM episode 52 score 21.0 avg score 24.1\n",
      "03/01 04:21:00 PM episode 53 score 8.0 avg score 23.8\n",
      "03/01 04:21:00 PM episode 54 score 29.0 avg score 23.9\n",
      "03/01 04:21:01 PM episode 55 score 24.0 avg score 23.9\n",
      "03/01 04:21:02 PM episode 56 score 46.0 avg score 24.3\n",
      "03/01 04:21:02 PM episode 57 score 15.0 avg score 24.2\n",
      "03/01 04:21:02 PM episode 58 score 20.0 avg score 24.1\n",
      "03/01 04:21:03 PM episode 59 score 41.0 avg score 24.4\n",
      "03/01 04:21:05 PM episode 60 score 83.0 avg score 25.3\n",
      "03/01 04:21:05 PM episode 61 score 20.0 avg score 25.2\n",
      "03/01 04:21:06 PM episode 62 score 27.0 avg score 25.3\n",
      "03/01 04:21:06 PM episode 63 score 29.0 avg score 25.3\n",
      "03/01 04:21:07 PM episode 64 score 38.0 avg score 25.5\n",
      "03/01 04:21:08 PM episode 65 score 30.0 avg score 25.6\n",
      "03/01 04:21:08 PM episode 66 score 33.0 avg score 25.7\n",
      "03/01 04:21:09 PM episode 67 score 51.0 avg score 26.1\n",
      "03/01 04:21:10 PM episode 68 score 38.0 avg score 26.2\n",
      "03/01 04:21:12 PM episode 69 score 125.0 avg score 27.7\n",
      "03/01 04:21:14 PM episode 70 score 92.0 avg score 28.6\n",
      "03/01 04:21:15 PM episode 71 score 67.0 avg score 29.1\n",
      "03/01 04:21:16 PM episode 72 score 65.0 avg score 29.6\n",
      "03/01 04:21:18 PM episode 73 score 155.0 avg score 31.3\n",
      "03/01 04:21:20 PM episode 74 score 124.0 avg score 32.5\n",
      "03/01 04:21:24 PM episode 75 score 209.0 avg score 34.8\n",
      "03/01 04:21:28 PM episode 76 score 172.0 avg score 36.6\n",
      "03/01 04:21:32 PM episode 77 score 199.0 avg score 38.7\n",
      "03/01 04:21:34 PM episode 78 score 117.0 avg score 39.7\n",
      "03/01 04:21:37 PM episode 79 score 172.0 avg score 41.4\n",
      "03/01 04:21:43 PM episode 80 score 288.0 avg score 44.4\n",
      "03/01 04:21:47 PM episode 81 score 178.0 avg score 46.0\n",
      "03/01 04:21:49 PM episode 82 score 121.0 avg score 46.9\n",
      "03/01 04:21:53 PM episode 83 score 200.0 avg score 48.8\n",
      "03/01 04:21:57 PM episode 84 score 194.0 avg score 50.5\n",
      "03/01 04:22:00 PM episode 85 score 124.0 avg score 51.3\n",
      "03/01 04:22:04 PM episode 86 score 240.0 avg score 53.5\n",
      "03/01 04:22:09 PM episode 87 score 270.0 avg score 55.9\n",
      "03/01 04:22:12 PM episode 88 score 139.0 avg score 56.9\n",
      "03/01 04:22:14 PM episode 89 score 102.0 avg score 57.4\n",
      "03/01 04:22:17 PM episode 90 score 178.0 avg score 58.7\n",
      "03/01 04:22:20 PM episode 91 score 114.0 avg score 59.3\n",
      "03/01 04:22:23 PM episode 92 score 167.0 avg score 60.5\n",
      "03/01 04:22:27 PM episode 93 score 238.0 avg score 62.4\n",
      "03/01 04:22:29 PM episode 94 score 111.0 avg score 62.9\n",
      "03/01 04:22:31 PM episode 95 score 130.0 avg score 63.6\n",
      "03/01 04:22:40 PM episode 96 score 535.0 avg score 68.4\n",
      "03/01 04:22:42 PM episode 97 score 135.0 avg score 69.1\n",
      "03/01 04:22:45 PM episode 98 score 142.0 avg score 69.8\n",
      "03/01 04:22:47 PM episode 99 score 130.0 avg score 70.4\n",
      "03/01 04:22:54 PM episode 100 score 340.0 avg score 73.6\n",
      "03/01 04:22:56 PM episode 101 score 98.0 avg score 74.4\n",
      "03/01 04:23:09 PM episode 102 score 593.0 avg score 80.2\n",
      "03/01 04:23:11 PM episode 103 score 104.0 avg score 80.9\n",
      "03/01 04:23:14 PM episode 104 score 164.0 avg score 82.3\n",
      "03/01 04:23:17 PM episode 105 score 142.0 avg score 83.3\n",
      "03/01 04:23:20 PM episode 106 score 165.0 avg score 84.7\n",
      "03/01 04:23:28 PM episode 107 score 381.0 avg score 88.3\n",
      "03/01 04:23:30 PM episode 108 score 108.0 avg score 89.1\n",
      "03/01 04:23:35 PM episode 109 score 223.0 avg score 91.0\n",
      "03/01 04:23:39 PM episode 110 score 190.0 avg score 92.5\n",
      "03/01 04:23:43 PM episode 111 score 207.0 avg score 94.3\n",
      "03/01 04:23:46 PM episode 112 score 151.0 avg score 95.7\n",
      "03/01 04:23:48 PM episode 113 score 119.0 avg score 96.6\n",
      "03/01 04:23:50 PM episode 114 score 112.0 avg score 97.6\n",
      "03/01 04:23:54 PM episode 115 score 223.0 avg score 99.4\n",
      "03/01 04:23:57 PM episode 116 score 167.0 avg score 100.8\n",
      "03/01 04:24:02 PM episode 117 score 237.0 avg score 102.9\n",
      "03/01 04:24:06 PM episode 118 score 208.0 avg score 104.7\n",
      "03/01 04:24:10 PM episode 119 score 188.0 avg score 106.4\n",
      "03/01 04:24:16 PM episode 120 score 356.0 avg score 109.8\n",
      "03/01 04:24:21 PM episode 121 score 281.0 avg score 112.4\n",
      "03/01 04:24:23 PM episode 122 score 159.0 avg score 113.7\n",
      "03/01 04:24:26 PM episode 123 score 163.0 avg score 115.2\n",
      "03/01 04:24:36 PM episode 124 score 515.0 avg score 120.2\n",
      "03/01 04:24:39 PM episode 125 score 175.0 avg score 121.7\n",
      "03/01 04:24:46 PM episode 126 score 275.0 avg score 124.4\n",
      "03/01 04:24:50 PM episode 127 score 225.0 avg score 126.5\n",
      "03/01 04:24:54 PM episode 128 score 205.0 avg score 128.4\n",
      "03/01 04:24:57 PM episode 129 score 190.0 avg score 130.1\n",
      "03/01 04:25:03 PM episode 130 score 268.0 avg score 132.7\n",
      "03/01 04:25:07 PM episode 131 score 222.0 avg score 134.8\n",
      "03/01 04:25:13 PM episode 132 score 310.0 avg score 137.7\n",
      "03/01 04:25:17 PM episode 133 score 231.0 avg score 139.7\n",
      "03/01 04:25:21 PM episode 134 score 197.0 avg score 140.9\n",
      "03/01 04:25:23 PM episode 135 score 152.0 avg score 142.2\n",
      "03/01 04:25:28 PM episode 136 score 220.0 avg score 144.2\n",
      "03/01 04:25:33 PM episode 137 score 228.0 avg score 146.1\n",
      "03/01 04:25:37 PM episode 138 score 175.0 avg score 147.7\n",
      "03/01 04:25:43 PM episode 139 score 293.0 avg score 150.3\n",
      "03/01 04:25:49 PM episode 140 score 267.0 avg score 152.7\n",
      "03/01 04:25:53 PM episode 141 score 212.0 avg score 154.4\n",
      "03/01 04:25:58 PM episode 142 score 253.0 avg score 156.8\n",
      "03/01 04:26:02 PM episode 143 score 174.0 avg score 158.4\n",
      "03/01 04:26:05 PM episode 144 score 160.0 avg score 159.8\n",
      "03/01 04:26:09 PM episode 145 score 190.0 avg score 161.5\n",
      "03/01 04:26:13 PM episode 146 score 183.0 avg score 163.1\n",
      "03/01 04:26:16 PM episode 147 score 162.0 avg score 164.4\n",
      "03/01 04:26:20 PM episode 148 score 162.0 avg score 165.9\n",
      "03/01 04:26:25 PM episode 149 score 210.0 avg score 167.8\n",
      "03/01 04:26:28 PM episode 150 score 157.0 avg score 168.9\n",
      "03/01 04:26:32 PM episode 151 score 205.0 avg score 170.8\n"
     ]
    },
    {
     "name": "stdout",
     "output_type": "stream",
     "text": [
      "03/01 04:26:37 PM episode 152 score 235.0 avg score 172.9\n",
      "03/01 04:26:41 PM episode 153 score 189.0 avg score 174.8\n",
      "03/01 04:26:45 PM episode 154 score 193.0 avg score 176.4\n",
      "03/01 04:26:49 PM episode 155 score 195.0 avg score 178.1\n",
      "03/01 04:26:53 PM episode 156 score 198.0 avg score 179.6\n",
      "03/01 04:26:58 PM episode 157 score 237.0 avg score 181.8\n",
      "03/01 04:27:02 PM episode 158 score 232.0 avg score 184.0\n",
      "03/01 04:27:06 PM episode 159 score 153.0 avg score 185.1\n",
      "03/01 04:27:11 PM episode 160 score 196.0 avg score 186.2\n",
      "03/01 04:27:15 PM episode 161 score 193.0 avg score 187.9\n",
      "03/01 04:27:21 PM episode 162 score 310.0 avg score 190.8\n",
      "03/01 04:27:27 PM episode 163 score 285.0 avg score 193.3\n",
      "03/01 04:27:32 PM episode 164 score 242.0 avg score 195.4\n",
      "03/01 04:27:37 PM episode 165 score 269.0 avg score 197.8\n",
      "03/01 04:27:45 PM episode 166 score 375.0 avg score 201.2\n",
      "03/01 04:27:49 PM episode 167 score 172.0 avg score 202.4\n",
      "03/01 04:27:54 PM episode 168 score 251.0 avg score 204.5\n",
      "03/01 04:28:00 PM episode 169 score 286.0 avg score 206.1\n",
      "03/01 04:28:09 PM episode 170 score 421.0 avg score 209.4\n",
      "03/01 04:28:14 PM episode 171 score 253.0 avg score 211.3\n",
      "03/01 04:28:19 PM episode 172 score 245.0 avg score 213.1\n",
      "03/01 04:28:26 PM episode 173 score 306.0 avg score 214.6\n",
      "03/01 04:28:32 PM episode 174 score 271.0 avg score 216.1\n",
      "03/01 04:28:40 PM episode 175 score 356.0 avg score 217.5\n",
      "03/01 04:28:45 PM episode 176 score 254.0 avg score 218.4\n",
      "03/01 04:28:48 PM episode 177 score 176.0 avg score 218.1\n",
      "03/01 04:28:53 PM episode 178 score 224.0 avg score 219.2\n",
      "03/01 04:28:59 PM episode 179 score 262.0 avg score 220.1\n",
      "03/01 04:29:05 PM episode 180 score 307.0 avg score 220.3\n",
      "03/01 04:29:13 PM episode 181 score 360.0 avg score 222.1\n",
      "03/01 04:29:20 PM episode 182 score 275.0 avg score 223.7\n",
      "03/01 04:29:27 PM episode 183 score 335.0 avg score 225.0\n",
      "03/01 04:29:36 PM episode 184 score 450.0 avg score 227.6\n",
      "03/01 04:29:42 PM episode 185 score 270.0 avg score 229.0\n",
      "03/01 04:29:54 PM episode 186 score 575.0 avg score 232.4\n",
      "03/01 04:30:00 PM episode 187 score 329.0 avg score 233.0\n",
      "03/01 04:30:09 PM episode 188 score 415.0 avg score 235.7\n",
      "03/01 04:30:15 PM episode 189 score 257.0 avg score 237.3\n",
      "03/01 04:30:23 PM episode 190 score 414.0 avg score 239.6\n",
      "03/01 04:30:34 PM episode 191 score 490.0 avg score 243.4\n",
      "03/01 04:30:41 PM episode 192 score 340.0 avg score 245.1\n",
      "03/01 04:30:52 PM episode 193 score 575.0 avg score 248.5\n",
      "03/01 04:31:06 PM episode 194 score 701.0 avg score 254.4\n",
      "03/01 04:31:13 PM episode 195 score 373.0 avg score 256.8\n",
      "03/01 04:31:26 PM episode 196 score 786.0 avg score 259.3\n",
      "03/01 04:31:47 PM episode 197 score 1000.0 avg score 268.0\n",
      "03/01 04:32:06 PM episode 198 score 1000.0 avg score 276.6\n",
      "03/01 04:32:25 PM episode 199 score 1000.0 avg score 285.3\n"
     ]
    }
   ],
   "source": [
    "import pybullet_envs\n",
    "import gym\n",
    "import numpy as np\n",
    "from sac_torch import Agent, Agent_sm\n",
    "import logging\n",
    "import sys\n",
    "import os\n",
    "import matplotlib.pyplot as plt\n",
    "import torch\n",
    "log_format = '%(asctime)s %(message)s'\n",
    "logging.basicConfig(stream=sys.stdout, level=logging.INFO,\n",
    "    format=log_format, datefmt='%m/%d %I:%M:%S %p')\n",
    "fh = logging.FileHandler(os.path.join('tmp', 'log.txt'))\n",
    "fh.setFormatter(logging.Formatter(log_format))\n",
    "logging.getLogger().addHandler(fh)\n",
    "\n",
    "\n",
    "if __name__ == '__main__':\n",
    "    env = gym.make('InvertedPendulumBulletEnv-v0')\n",
    "    #print(env.action_space.shape[0])\n",
    "    agent = Agent_sm(input_dims=env.observation_space.shape[0], env=env, \n",
    "                n_actions=env.action_space.shape[0])\n",
    "    n_games = 200\n",
    "    best_score = env.reward_range[0]\n",
    "    score_history = []\n",
    "    load_checkpoints = False\n",
    "\n",
    "    if load_checkpoints:\n",
    "        agent.load_models()\n",
    "        #env.render(mode='human')\n",
    "    \n",
    "    #save losses: final_loss, value_loss, actor_loss, critic_loss\n",
    "    value_loss = []\n",
    "    actor_loss = []\n",
    "    critic_loss = []\n",
    "    action_record = []\n",
    "    for i in range(n_games):\n",
    "        observation = env.reset()\n",
    "        done = False\n",
    "        score = 0\n",
    "        step = 0\n",
    "        \n",
    "        action_epi = []\n",
    "        value_loss_epi = []\n",
    "        actor_loss_epi = []\n",
    "        critic_loss_epi = []\n",
    "        while not done:\n",
    "            action = agent.choose_action(observation)\n",
    "            action_epi.append(action)\n",
    "            observation_, reward, done, info = env.step(action)\n",
    "            score += reward\n",
    "            agent.remember(observation, action, reward, observation_, done)\n",
    "            #if not load_checkpoints:\n",
    "            l = agent.learn()\n",
    "            if l is not None:\n",
    "                value_loss_epi.append(l[1].cpu().detach().numpy())\n",
    "                actor_loss_epi.append(l[2].cpu().detach().numpy())\n",
    "                critic_loss_epi.append(l[3].cpu().detach().numpy())\n",
    "            observation = observation_\n",
    "            \n",
    "        score_history.append(score)\n",
    "        avg_score = np.mean(score_history[-100:])\n",
    "        # append mean loss of each episode\n",
    "        value_loss.append(np.mean(value_loss_epi))\n",
    "        actor_loss.append(np.mean(actor_loss_epi))\n",
    "        critic_loss.append(np.mean(critic_loss_epi))\n",
    "        action_record.append(action_epi)\n",
    "            \n",
    "#         if len(value_loss_epi) != 0:\n",
    "#             value_meanloss.append(torch.mean(torch.stack(value_loss_epi)))\n",
    "#         if len(actor_loss_epi) != 0:\n",
    "#             actor_meanloss.append(torch.mean(torch.stack(actor_loss_epi)))\n",
    "#         if len(critic_loss_epi) != 0:\n",
    "#             critic_meanloss.append(torch.mean(torch.stack(critic_loss_epi)))\n",
    "\n",
    "#         if avg_score > best_score:\n",
    "#             best_score = avg_score\n",
    "#             #if not load_checkpoints:\n",
    "#             agent.save_models()\n",
    "        logging.info('episode %d score %.1f avg score %.1f', i, score, avg_score)"
   ]
  },
  {
   "cell_type": "code",
   "execution_count": 2,
   "metadata": {},
   "outputs": [
    {
     "name": "stdout",
     "output_type": "stream",
     "text": [
      "... saving models ...\n"
     ]
    }
   ],
   "source": [
    "    agent.save_models()\n",
    "    PATH = 'losses.pt'\n",
    "    torch.save({\n",
    "            'value_loss': value_loss,\n",
    "            'actor_loss': actor_loss,\n",
    "            'critic_loss': critic_loss,\n",
    "            'actions': action_record\n",
    "            }, PATH)\n",
    "    "
   ]
  },
  {
   "cell_type": "code",
   "execution_count": 7,
   "metadata": {},
   "outputs": [
    {
     "ename": "AttributeError",
     "evalue": "'numpy.ndarray' object has no attribute 'numpy'",
     "output_type": "error",
     "traceback": [
      "\u001b[0;31m\u001b[0m",
      "\u001b[0;31mAttributeError\u001b[0mTraceback (most recent call last)",
      "\u001b[0;32m<ipython-input-7-48edef8b2c13>\u001b[0m in \u001b[0;36m<module>\u001b[0;34m\u001b[0m\n\u001b[0;32m----> 1\u001b[0;31m \u001b[0mprint\u001b[0m\u001b[0;34m(\u001b[0m\u001b[0maction_record\u001b[0m\u001b[0;34m[\u001b[0m\u001b[0;36m0\u001b[0m\u001b[0;34m]\u001b[0m\u001b[0;34m.\u001b[0m\u001b[0mnumpy\u001b[0m\u001b[0;34m(\u001b[0m\u001b[0;34m)\u001b[0m\u001b[0;34m)\u001b[0m\u001b[0;34m\u001b[0m\u001b[0;34m\u001b[0m\u001b[0m\n\u001b[0m",
      "\u001b[0;31mAttributeError\u001b[0m: 'numpy.ndarray' object has no attribute 'numpy'"
     ]
    }
   ],
   "source": [
    "print(action_record[0])"
   ]
  },
  {
   "cell_type": "code",
   "execution_count": 20,
   "metadata": {},
   "outputs": [
    {
     "data": {
      "text/plain": [
       "list"
      ]
     },
     "execution_count": 20,
     "metadata": {},
     "output_type": "execute_result"
    }
   ],
   "source": [
    "type(value_loss)"
   ]
  },
  {
   "cell_type": "code",
   "execution_count": 3,
   "metadata": {},
   "outputs": [
    {
     "data": {
      "text/plain": [
       "[<matplotlib.lines.Line2D at 0x7fe0aa96c460>]"
      ]
     },
     "execution_count": 3,
     "metadata": {},
     "output_type": "execute_result"
    },
    {
     "data": {
      "image/png": "[encoded data removed]",
      "text/plain": [
       "<Figure size 432x288 with 1 Axes>"
      ]
     },
     "metadata": {
      "needs_background": "light"
     },
     "output_type": "display_data"
    }
   ],
   "source": [
    "plt.plot(value_loss)"
   ]
  },
  {
   "cell_type": "code",
   "execution_count": 4,
   "metadata": {},
   "outputs": [
    {
     "data": {
      "text/plain": [
       "[<matplotlib.lines.Line2D at 0x7fe0aa5d6940>]"
      ]
     },
     "execution_count": 4,
     "metadata": {},
     "output_type": "execute_result"
    },
    {
     "data": {
      "image/png": "[encoded data removed]",
      "text/plain": [
       "<Figure size 432x288 with 1 Axes>"
      ]
     },
     "metadata": {
      "needs_background": "light"
     },
     "output_type": "display_data"
    }
   ],
   "source": [
    "plt.plot(actor_loss)"
   ]
  },
  {
   "cell_type": "code",
   "execution_count": 5,
   "metadata": {},
   "outputs": [
    {
     "data": {
      "text/plain": [
       "[<matplotlib.lines.Line2D at 0x7fe0aa637820>]"
      ]
     },
     "execution_count": 5,
     "metadata": {},
     "output_type": "execute_result"
    },
    {
     "data": {
      "image/png": "[encoded data removed]",
      "text/plain": [
       "<Figure size 432x288 with 1 Axes>"
      ]
     },
     "metadata": {
      "needs_background": "light"
     },
     "output_type": "display_data"
    }
   ],
   "source": [
    "plt.plot(critic_loss)"
   ]
  },
  {
   "cell_type": "code",
   "execution_count": 7,
   "metadata": {},
   "outputs": [
    {
     "data": {
      "text/plain": [
       "[<matplotlib.lines.Line2D at 0x7fe0aa506e80>]"
      ]
     },
     "execution_count": 7,
     "metadata": {},
     "output_type": "execute_result"
    },
    {
     "data": {
      "image/png": "[encoded data removed]",
      "text/plain": [
       "<Figure size 432x288 with 1 Axes>"
      ]
     },
     "metadata": {
      "needs_background": "light"
     },
     "output_type": "display_data"
    }
   ],
   "source": [
    "plt.plot(action_record[-1])"
   ]
  },
  {
   "cell_type": "code",
   "execution_count": 1,
   "metadata": {},
   "outputs": [
    {
     "name": "stderr",
     "output_type": "stream",
     "text": [
      "/home/siz075/.local/lib/python3.8/site-packages/gym/logger.py:30: UserWarning: \u001b[33mWARN: Box bound precision lowered by casting to float32\u001b[0m\n",
      "  warnings.warn(colorize('%s: %s'%('WARN', msg % args), 'yellow'))\n"
     ]
    },
    {
     "name": "stdout",
     "output_type": "stream",
     "text": [
      "... loading models ...\n",
      "03/01 06:09:23 PM episode 0 score 984.0 avg score 984.0\n",
      "03/01 06:09:28 PM episode 1 score 469.0 avg score 726.5\n",
      "03/01 06:09:32 PM episode 2 score 390.0 avg score 614.3\n",
      "03/01 06:09:38 PM episode 3 score 485.0 avg score 582.0\n",
      "03/01 06:09:45 PM episode 4 score 618.0 avg score 589.2\n",
      "03/01 06:09:48 PM episode 5 score 290.0 avg score 539.3\n",
      "03/01 06:09:58 PM episode 6 score 1000.0 avg score 605.1\n",
      "03/01 06:10:09 PM episode 7 score 1000.0 avg score 654.5\n",
      "03/01 06:10:12 PM episode 8 score 331.0 avg score 618.6\n",
      "03/01 06:10:16 PM episode 9 score 320.0 avg score 588.7\n",
      "03/01 06:10:25 PM episode 10 score 1000.0 avg score 626.1\n",
      "03/01 06:10:35 PM episode 11 score 1000.0 avg score 657.2\n",
      "03/01 06:10:42 PM episode 12 score 656.0 avg score 657.2\n",
      "03/01 06:10:53 PM episode 13 score 1000.0 avg score 681.6\n",
      "03/01 06:11:03 PM episode 14 score 1000.0 avg score 702.9\n",
      "03/01 06:11:14 PM episode 15 score 1000.0 avg score 721.4\n",
      "03/01 06:11:25 PM episode 16 score 1000.0 avg score 737.8\n",
      "03/01 06:11:29 PM episode 17 score 348.0 avg score 716.2\n",
      "03/01 06:11:33 PM episode 18 score 363.0 avg score 697.6\n",
      "03/01 06:11:40 PM episode 19 score 589.0 avg score 692.1\n",
      "03/01 06:11:52 PM episode 20 score 1000.0 avg score 706.8\n",
      "03/01 06:12:02 PM episode 21 score 1000.0 avg score 720.1\n",
      "03/01 06:12:10 PM episode 22 score 721.0 avg score 720.2\n",
      "03/01 06:12:21 PM episode 23 score 1000.0 avg score 731.8\n",
      "03/01 06:12:32 PM episode 24 score 1000.0 avg score 742.6\n",
      "03/01 06:12:42 PM episode 25 score 1000.0 avg score 752.5\n",
      "03/01 06:12:53 PM episode 26 score 1000.0 avg score 761.6\n",
      "03/01 06:13:04 PM episode 27 score 1000.0 avg score 770.1\n",
      "03/01 06:13:13 PM episode 28 score 1000.0 avg score 778.1\n",
      "03/01 06:13:24 PM episode 29 score 1000.0 avg score 785.5\n",
      "03/01 06:13:35 PM episode 30 score 1000.0 avg score 792.4\n",
      "03/01 06:13:46 PM episode 31 score 1000.0 avg score 798.9\n",
      "03/01 06:13:58 PM episode 32 score 1000.0 avg score 805.0\n",
      "03/01 06:14:09 PM episode 33 score 1000.0 avg score 810.7\n",
      "03/01 06:14:21 PM episode 34 score 1000.0 avg score 816.1\n",
      "03/01 06:14:32 PM episode 35 score 1000.0 avg score 821.2\n",
      "03/01 06:14:44 PM episode 36 score 1000.0 avg score 826.1\n",
      "03/01 06:14:53 PM episode 37 score 1000.0 avg score 830.6\n",
      "03/01 06:15:04 PM episode 38 score 1000.0 avg score 835.0\n",
      "03/01 06:15:15 PM episode 39 score 1000.0 avg score 839.1\n",
      "03/01 06:15:25 PM episode 40 score 1000.0 avg score 843.0\n",
      "03/01 06:15:37 PM episode 41 score 1000.0 avg score 846.8\n",
      "03/01 06:15:48 PM episode 42 score 1000.0 avg score 850.3\n",
      "03/01 06:15:59 PM episode 43 score 1000.0 avg score 853.7\n",
      "03/01 06:16:09 PM episode 44 score 1000.0 avg score 857.0\n",
      "03/01 06:16:19 PM episode 45 score 1000.0 avg score 860.1\n",
      "03/01 06:16:30 PM episode 46 score 1000.0 avg score 863.1\n",
      "03/01 06:16:41 PM episode 47 score 1000.0 avg score 865.9\n",
      "03/01 06:16:52 PM episode 48 score 1000.0 avg score 868.7\n",
      "03/01 06:17:03 PM episode 49 score 1000.0 avg score 871.3\n",
      "03/01 06:17:13 PM episode 50 score 1000.0 avg score 873.8\n",
      "03/01 06:17:24 PM episode 51 score 1000.0 avg score 876.2\n",
      "03/01 06:17:34 PM episode 52 score 1000.0 avg score 878.6\n",
      "03/01 06:17:45 PM episode 53 score 1000.0 avg score 880.8\n",
      "03/01 06:17:56 PM episode 54 score 1000.0 avg score 883.0\n",
      "03/01 06:18:07 PM episode 55 score 1000.0 avg score 885.1\n",
      "03/01 06:18:17 PM episode 56 score 1000.0 avg score 887.1\n",
      "03/01 06:18:28 PM episode 57 score 1000.0 avg score 889.0\n",
      "03/01 06:18:39 PM episode 58 score 1000.0 avg score 890.9\n",
      "03/01 06:18:51 PM episode 59 score 1000.0 avg score 892.7\n",
      "03/01 06:19:02 PM episode 60 score 1000.0 avg score 894.5\n",
      "03/01 06:19:13 PM episode 61 score 1000.0 avg score 896.2\n",
      "03/01 06:19:25 PM episode 62 score 1000.0 avg score 897.8\n",
      "03/01 06:19:35 PM episode 63 score 1000.0 avg score 899.4\n",
      "03/01 06:19:46 PM episode 64 score 1000.0 avg score 901.0\n",
      "03/01 06:19:57 PM episode 65 score 1000.0 avg score 902.5\n",
      "03/01 06:20:00 PM episode 66 score 339.0 avg score 894.1\n",
      "03/01 06:20:11 PM episode 67 score 1000.0 avg score 895.6\n",
      "03/01 06:20:22 PM episode 68 score 1000.0 avg score 897.1\n",
      "03/01 06:20:26 PM episode 69 score 349.0 avg score 889.3\n",
      "03/01 06:20:37 PM episode 70 score 1000.0 avg score 890.9\n",
      "03/01 06:20:47 PM episode 71 score 1000.0 avg score 892.4\n",
      "03/01 06:20:50 PM episode 72 score 321.0 avg score 884.6\n",
      "03/01 06:21:00 PM episode 73 score 1000.0 avg score 886.1\n",
      "03/01 06:21:10 PM episode 74 score 1000.0 avg score 887.6\n",
      "03/01 06:21:20 PM episode 75 score 1000.0 avg score 889.1\n",
      "03/01 06:21:24 PM episode 76 score 362.0 avg score 882.3\n",
      "03/01 06:21:34 PM episode 77 score 1000.0 avg score 883.8\n",
      "03/01 06:21:45 PM episode 78 score 1000.0 avg score 885.3\n",
      "03/01 06:21:55 PM episode 79 score 1000.0 avg score 886.7\n",
      "03/01 06:22:05 PM episode 80 score 1000.0 avg score 888.1\n",
      "03/01 06:22:16 PM episode 81 score 1000.0 avg score 889.5\n",
      "03/01 06:22:27 PM episode 82 score 1000.0 avg score 890.8\n",
      "03/01 06:22:36 PM episode 83 score 1000.0 avg score 892.1\n",
      "03/01 06:22:45 PM episode 84 score 1000.0 avg score 893.4\n",
      "03/01 06:22:55 PM episode 85 score 1000.0 avg score 894.6\n",
      "03/01 06:23:05 PM episode 86 score 1000.0 avg score 895.8\n",
      "03/01 06:23:17 PM episode 87 score 1000.0 avg score 897.0\n",
      "03/01 06:23:26 PM episode 88 score 1000.0 avg score 898.1\n",
      "03/01 06:23:36 PM episode 89 score 1000.0 avg score 899.3\n",
      "03/01 06:23:46 PM episode 90 score 1000.0 avg score 900.4\n",
      "03/01 06:23:56 PM episode 91 score 1000.0 avg score 901.5\n",
      "03/01 06:24:00 PM episode 92 score 382.0 avg score 895.9\n",
      "03/01 06:24:11 PM episode 93 score 1000.0 avg score 897.0\n",
      "03/01 06:24:15 PM episode 94 score 366.0 avg score 891.4\n",
      "03/01 06:24:19 PM episode 95 score 385.0 avg score 886.1\n",
      "03/01 06:24:29 PM episode 96 score 1000.0 avg score 887.3\n",
      "03/01 06:24:40 PM episode 97 score 1000.0 avg score 888.4\n",
      "03/01 06:24:45 PM episode 98 score 415.0 avg score 883.7\n",
      "03/01 06:24:49 PM episode 99 score 414.0 avg score 879.0\n"
     ]
    }
   ],
   "source": [
    "#save losses: final_loss, value_loss, actor_loss, critic_loss\n",
    "import pybullet_envs\n",
    "import gym\n",
    "import numpy as np\n",
    "from sac_torch import Agent, Agent_sm\n",
    "import logging\n",
    "import sys\n",
    "import os\n",
    "import matplotlib.pyplot as plt\n",
    "import torch\n",
    "log_format = '%(asctime)s %(message)s'\n",
    "logging.basicConfig(stream=sys.stdout, level=logging.INFO,\n",
    "    format=log_format, datefmt='%m/%d %I:%M:%S %p')\n",
    "fh = logging.FileHandler(os.path.join('tmp', 'log.txt'))\n",
    "fh.setFormatter(logging.Formatter(log_format))\n",
    "logging.getLogger().addHandler(fh)\n",
    "env = gym.make('InvertedPendulumBulletEnv-v0')\n",
    "#print(env.action_space.shape[0])\n",
    "agent = Agent_sm(input_dims=env.observation_space.shape[0], env=env, \n",
    "                n_actions=env.action_space.shape[0])\n",
    "best_score = env.reward_range[0]\n",
    "score_history = []\n",
    "agent.load_models()\n",
    "n_games_sm = 100\n",
    "value_loss_sm = []\n",
    "actor_loss_sm = []\n",
    "critic_loss_sm = []\n",
    "action_record_sm = []\n",
    "for i in range(n_games_sm):\n",
    "    observation = env.reset()\n",
    "    done = False\n",
    "    score = 0\n",
    "    step = 0\n",
    "    action_epi = []\n",
    "    value_loss_epi = []\n",
    "    actor_loss_epi = []\n",
    "    critic_loss_epi = []\n",
    "    while not done:\n",
    "        action = agent.choose_action(observation)\n",
    "        action_epi.append(action)\n",
    "        observation_, reward, done, info = env.step(action)\n",
    "        score += reward\n",
    "        agent.remember(observation, action, reward, observation_, done)\n",
    "        #if not load_checkpoints:\n",
    "        l = agent.learn_sm()\n",
    "                # append last loss of each episode\n",
    "        if l is not None:\n",
    "            actor_loss_epi.append(l[2].cpu().detach().numpy())\n",
    "        observation = observation_\n",
    "        # store mean losses of each episode\n",
    "    actor_loss_sm.append(np.mean(actor_loss_epi))\n",
    "    action_record_sm.append(action_epi)\n",
    "    score_history.append(score)\n",
    "    avg_score = np.mean(score_history[-100:])\n",
    "\n",
    "#         if avg_score > best_score:\n",
    "#             best_score = avg_score\n",
    "#             #if not load_checkpoints:\n",
    "#             agent.save_models()\n",
    "    logging.info('episode %d score %.1f avg score %.1f', i, score, avg_score)"
   ]
  },
  {
   "cell_type": "code",
   "execution_count": 14,
   "metadata": {},
   "outputs": [],
   "source": [
    "PATH = 'losses_sm_reg_1.pt'\n",
    "torch.save({\n",
    "        'actor_loss': actor_loss_sm,\n",
    "        'actions': action_record_sm\n",
    "        }, PATH)"
   ]
  },
  {
   "cell_type": "code",
   "execution_count": 2,
   "metadata": {},
   "outputs": [
    {
     "data": {
      "text/plain": [
       "[<matplotlib.lines.Line2D at 0x7f2a98298e50>]"
      ]
     },
     "execution_count": 2,
     "metadata": {},
     "output_type": "execute_result"
    },
    {
     "data": {
      "image/png": "[encoded data removed]",
      "text/plain": [
       "<Figure size 432x288 with 1 Axes>"
      ]
     },
     "metadata": {
      "needs_background": "light"
     },
     "output_type": "display_data"
    }
   ],
   "source": [
    "plt.plot(actor_loss_sm)"
   ]
  },
  {
   "cell_type": "code",
   "execution_count": 20,
   "metadata": {},
   "outputs": [
    {
     "data": {
      "text/plain": [
       "[<matplotlib.lines.Line2D at 0x7f2a899f62e0>]"
      ]
     },
     "execution_count": 20,
     "metadata": {},
     "output_type": "execute_result"
    },
    {
     "data": {
      "image/png": "[encoded data removed]",
      "text/plain": [
       "<Figure size 432x288 with 1 Axes>"
      ]
     },
     "metadata": {
      "needs_background": "light"
     },
     "output_type": "display_data"
    }
   ],
   "source": [
    "plt.plot(action_record_sm[-3])"
   ]
  },
  {
   "cell_type": "code",
   "execution_count": null,
   "metadata": {},
   "outputs": [],
   "source": []
  }
 ],
 "metadata": {
  "kernelspec": {
   "display_name": "ml-latest",
   "language": "python",
   "name": "ml-latest"
  },
  "language_info": {
   "codemirror_mode": {
    "name": "ipython",
    "version": 3
   },
   "file_extension": ".py",
   "mimetype": "text/x-python",
   "name": "python",
   "nbconvert_exporter": "python",
   "pygments_lexer": "ipython3",
   "version": "3.8.6"
  }
 },
 "nbformat": 4,
 "nbformat_minor": 4
}
